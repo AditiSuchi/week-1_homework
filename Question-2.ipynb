{
 "cells": [
  {
   "cell_type": "code",
   "execution_count": 1,
   "id": "aa304581-0d02-435d-8176-d29f72e0bd36",
   "metadata": {},
   "outputs": [
    {
     "name": "stdin",
     "output_type": "stream",
     "text": [
      "Enter the value of length of the Rectangle: 6\n",
      "Enter the value of width of the Rectangle: 7\n"
     ]
    },
    {
     "name": "stdout",
     "output_type": "stream",
     "text": [
      "Area of rectangle is: 42\n"
     ]
    }
   ],
   "source": [
    "x= int(input(\"Enter the value of length of the Rectangle:\"))\n",
    "y= int(input(\"Enter the value of width of the Rectangle:\"))\n",
    "area = x*y\n",
    "area = str(area)\n",
    "print(\"Area of rectangle is: \" + area )\n"
   ]
  },
  {
   "cell_type": "code",
   "execution_count": null,
   "id": "e100e770-027f-4080-b232-5182d23a4a67",
   "metadata": {},
   "outputs": [],
   "source": []
  }
 ],
 "metadata": {
  "kernelspec": {
   "display_name": "Python 3 (ipykernel)",
   "language": "python",
   "name": "python3"
  },
  "language_info": {
   "codemirror_mode": {
    "name": "ipython",
    "version": 3
   },
   "file_extension": ".py",
   "mimetype": "text/x-python",
   "name": "python",
   "nbconvert_exporter": "python",
   "pygments_lexer": "ipython3",
   "version": "3.10.8"
  }
 },
 "nbformat": 4,
 "nbformat_minor": 5
}

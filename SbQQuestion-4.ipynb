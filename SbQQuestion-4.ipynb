{
 "cells": [
  {
   "cell_type": "code",
   "execution_count": 14,
   "id": "8772f04e-89a7-4552-9b39-96fa325f946b",
   "metadata": {},
   "outputs": [
    {
     "name": "stdout",
     "output_type": "stream",
     "text": [
      "non-palindrome\n"
     ]
    }
   ],
   "source": [
    "x=\"Aditi\"\n",
    "t1 =x[:]\n",
    "t2=x[::-1]\n",
    "if (t1==t2):\n",
    "  print(\" palindrome\")\n",
    "else:\n",
    "  print(\"non-palindrome\")\n",
    " "
   ]
  },
  {
   "cell_type": "code",
   "execution_count": null,
   "id": "0b66f493-57f5-48d8-b8a4-c914ce2fc7dd",
   "metadata": {},
   "outputs": [],
   "source": []
  },
  {
   "cell_type": "code",
   "execution_count": null,
   "id": "fc61dd7f-01bf-4df5-89ec-5480987923e0",
   "metadata": {},
   "outputs": [],
   "source": []
  }
 ],
 "metadata": {
  "kernelspec": {
   "display_name": "Python 3 (ipykernel)",
   "language": "python",
   "name": "python3"
  },
  "language_info": {
   "codemirror_mode": {
    "name": "ipython",
    "version": 3
   },
   "file_extension": ".py",
   "mimetype": "text/x-python",
   "name": "python",
   "nbconvert_exporter": "python",
   "pygments_lexer": "ipython3",
   "version": "3.10.8"
  }
 },
 "nbformat": 4,
 "nbformat_minor": 5
}

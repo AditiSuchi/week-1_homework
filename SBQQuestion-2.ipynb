{
 "cells": [
  {
   "cell_type": "code",
   "execution_count": 11,
   "id": "71c88682-d4cd-45bc-9c0a-bb4c2561b1a7",
   "metadata": {},
   "outputs": [
    {
     "name": "stdin",
     "output_type": "stream",
     "text": [
      "Tell us your thoughts please: Aditi is my name\n"
     ]
    },
    {
     "name": "stdout",
     "output_type": "stream",
     "text": [
      "5\n"
     ]
    }
   ],
   "source": [
    "stringg = input(\"Tell us your thoughts please:\")\n",
    "a= stringg.count(\"a\")\n",
    "e= stringg.count(\"e\")\n",
    "i= stringg.count(\"i\")\n",
    "o= stringg.count(\"o\")\n",
    "u= stringg.count(\"u\")\n",
    "sum = a+i+o+e+u\n",
    "print(sum)\n"
   ]
  },
  {
   "cell_type": "code",
   "execution_count": null,
   "id": "263d9267-5d68-4fcd-9198-6c122f0d044e",
   "metadata": {},
   "outputs": [],
   "source": [
    "\n",
    "\n"
   ]
  }
 ],
 "metadata": {
  "kernelspec": {
   "display_name": "Python 3 (ipykernel)",
   "language": "python",
   "name": "python3"
  },
  "language_info": {
   "codemirror_mode": {
    "name": "ipython",
    "version": 3
   },
   "file_extension": ".py",
   "mimetype": "text/x-python",
   "name": "python",
   "nbconvert_exporter": "python",
   "pygments_lexer": "ipython3",
   "version": "3.10.8"
  }
 },
 "nbformat": 4,
 "nbformat_minor": 5
}

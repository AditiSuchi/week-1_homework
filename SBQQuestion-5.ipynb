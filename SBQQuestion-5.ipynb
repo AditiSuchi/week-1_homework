{
 "cells": [
  {
   "cell_type": "code",
   "execution_count": 12,
   "id": "87b29c49-30a3-43cd-bae0-5fae055166e9",
   "metadata": {},
   "outputs": [
    {
     "name": "stdin",
     "output_type": "stream",
     "text": [
      "Say few Words: bwqdq hd           quvuqd         vvdwqghvqd       dqwvud\n"
     ]
    },
    {
     "name": "stdout",
     "output_type": "stream",
     "text": [
      "bwqdq hd           quvuqd         vvdwqghvqd       dqwvud\n"
     ]
    }
   ],
   "source": [
    "stringg = input(\"Say few Words:\")\n",
    "string2 = stringg.strip()\n",
    "print(string2)"
   ]
  }
 ],
 "metadata": {
  "kernelspec": {
   "display_name": "Python 3 (ipykernel)",
   "language": "python",
   "name": "python3"
  },
  "language_info": {
   "codemirror_mode": {
    "name": "ipython",
    "version": 3
   },
   "file_extension": ".py",
   "mimetype": "text/x-python",
   "name": "python",
   "nbconvert_exporter": "python",
   "pygments_lexer": "ipython3",
   "version": "3.10.8"
  }
 },
 "nbformat": 4,
 "nbformat_minor": 5
}

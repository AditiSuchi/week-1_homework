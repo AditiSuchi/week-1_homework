{
 "cells": [
  {
   "cell_type": "code",
   "execution_count": 1,
   "id": "6ae4fcfa-85a5-41c9-bd69-36f8afd1139c",
   "metadata": {},
   "outputs": [
    {
     "name": "stdin",
     "output_type": "stream",
     "text": [
      "Enter your temperature in Celsius:  5\n"
     ]
    },
    {
     "name": "stdout",
     "output_type": "stream",
     "text": [
      "Your tempurtature in Fehrenheit is:41.0\n"
     ]
    }
   ],
   "source": [
    " celsius = int(input(\"Enter your temperature in Celsius: \"))\n",
    " fehrenheit = str((celsius*1.8)+32)\n",
    "print(\"Your tempurtature in Fehrenheit is :\" +fehrenheit)\n",
    "      "
   ]
  },
  {
   "cell_type": "code",
   "execution_count": null,
   "id": "21a15b98-2a49-4b96-8e76-0eaff4e81aec",
   "metadata": {},
   "outputs": [],
   "source": []
  }
 ],
 "metadata": {
  "kernelspec": {
   "display_name": "Python 3 (ipykernel)",
   "language": "python",
   "name": "python3"
  },
  "language_info": {
   "codemirror_mode": {
    "name": "ipython",
    "version": 3
   },
   "file_extension": ".py",
   "mimetype": "text/x-python",
   "name": "python",
   "nbconvert_exporter": "python",
   "pygments_lexer": "ipython3",
   "version": "3.10.8"
  }
 },
 "nbformat": 4,
 "nbformat_minor": 5
}
